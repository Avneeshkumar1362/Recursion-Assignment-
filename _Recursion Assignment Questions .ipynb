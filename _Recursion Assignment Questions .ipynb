{
 "cells": [
  {
   "cell_type": "markdown",
   "id": "923caced-e61a-4023-aab5-f6a182d5165a",
   "metadata": {},
   "source": [
    "### Q.1 Can you explain the logic and working of the Tower of Hanoi algorithm by writing a Java program? How does the recursion work, and how are the movements of disks between rods accomplished?"
   ]
  },
  {
   "cell_type": "code",
   "execution_count": 24,
   "id": "fffd7439-6704-4ef3-b464-201ff26cecea",
   "metadata": {},
   "outputs": [
    {
     "name": "stdout",
     "output_type": "stream",
     "text": [
      "Tower of Hanoi solution with 3 disks:\n",
      "Move disk 1 from A to C\n",
      "Move disk 2 from A to B\n",
      "Move disk 1 from C to B\n",
      "Move disk 3 from A to C\n",
      "Move disk 1 from B to A\n",
      "Move disk 2 from B to C\n",
      "Move disk 1 from A to C\n"
     ]
    }
   ],
   "source": [
    "def tower_of_hanoi(n, source_rod, target_rod, auxiliary_rod):\n",
    "    if n == 1:\n",
    "        # Base case: If there is only one disk, move it from source to target rod\n",
    "        print(f\"Move disk 1 from {source_rod} to {target_rod}\")\n",
    "        return\n",
    "\n",
    "    # Move (n-1) disks from source to auxiliary rod using target rod\n",
    "    tower_of_hanoi(n - 1, source_rod, auxiliary_rod, target_rod)\n",
    "\n",
    "    # Move the nth disk from source to target rod\n",
    "    print(f\"Move disk {n} from {source_rod} to {target_rod}\")\n",
    "\n",
    "    # Move (n-1) disks from auxiliary rod to target rod using source rod\n",
    "    tower_of_hanoi(n - 1, auxiliary_rod, target_rod, source_rod)\n",
    "\n",
    "if __name__ == \"__main__\":\n",
    "    number_of_disks = 3  # Change this value to the desired number of disks\n",
    "    source_rod = 'A'\n",
    "    target_rod = 'C'\n",
    "    auxiliary_rod = 'B'\n",
    "\n",
    "    print(f\"Tower of Hanoi solution with {number_of_disks} disks:\")\n",
    "    tower_of_hanoi(number_of_disks, source_rod, target_rod, auxiliary_rod)"
   ]
  },
  {
   "cell_type": "markdown",
   "id": "a47175ea-83bb-41c6-baeb-f74faedd6f70",
   "metadata": {},
   "source": [
    "### Q.2 Given two strings word1 and word2, return the minimum number of operations required to convert word1 to word2.\n",
    "### Example 1:\n",
    "### Input: word1 = \"horse\", word2 = \"ros\"\n",
    "### Output: 3\n",
    "### Explanation:\n",
    "### horse -> rorse (replace 'h' with 'r')\n",
    "### rorse -> rose (remove 'r')\n",
    "### rose -> ros (remove 'e')\n",
    "### Example 2:\n",
    "### Input: word1 = \"intention\", word2 = \"execution\"\n",
    "### Output: 5\n",
    "### Explanation:\n",
    "### intention -> inention (remove 't')\n",
    "### inention -> enention (replace"
   ]
  },
  {
   "cell_type": "code",
   "execution_count": 31,
   "id": "ed09a85c-baef-4ded-b92b-5f2e7a7bd208",
   "metadata": {},
   "outputs": [
    {
     "name": "stdout",
     "output_type": "stream",
     "text": [
      "3\n"
     ]
    }
   ],
   "source": [
    "def min_distance(word1, word2):\n",
    "    def helper(i, j):\n",
    "\n",
    "        if i == len(word1):\n",
    "            return len(word2) - j  \n",
    "        if j == len(word2):\n",
    "            return len(word1) - i  \n",
    "\n",
    "        if word1[i] == word2[j]:\n",
    "            return helper(i + 1, j + 1)\n",
    "        \n",
    "       \n",
    "        insert = 1 + helper(i, j + 1)  \n",
    "        delete = 1 + helper(i + 1, j) \n",
    "        substitute = 1 + helper(i + 1, j + 1) \n",
    "        \n",
    "        return min(insert, delete, substitute)\n",
    "    \n",
    "    return helper(0, 0)\n",
    "\n",
    "# Example usage\n",
    "word1 = \"horse\"\n",
    "word2 = \"roses\"\n",
    "result = min_distance(word1, word2)\n",
    "print(result)"
   ]
  },
  {
   "cell_type": "code",
   "execution_count": 39,
   "id": "2159b7b7-50ab-4ea1-bb59-d3f3944f56a8",
   "metadata": {},
   "outputs": [
    {
     "name": "stdout",
     "output_type": "stream",
     "text": [
      "Minimum edit distance between 'intention' and 'execution': 5\n"
     ]
    }
   ],
   "source": [
    "def min_distance(word1, word2):\n",
    "    m, n = len(word1), len(word2)\n",
    "\n",
    "    # Create a 2D array to store the minimum edit distances\n",
    "    dp = [[0] * (n + 1) for _ in range(m + 1)]\n",
    "\n",
    "    # Initialize the first row and column\n",
    "    for i in range(m + 1):\n",
    "        dp[i][0] = i\n",
    "    for j in range(n + 1):\n",
    "        dp[0][j] = j\n",
    "\n",
    "    # Fill in the rest of the table\n",
    "    for i in range(1, m + 1):\n",
    "        for j in range(1, n + 1):\n",
    "            if word1[i - 1] == word2[j - 1]:\n",
    "                dp[i][j] = dp[i - 1][j - 1]\n",
    "            else:\n",
    "                dp[i][j] = 1 + min(dp[i - 1][j],        # Deletion\n",
    "                                  dp[i][j - 1],        # Insertion\n",
    "                                  dp[i - 1][j - 1])    # Substitution\n",
    "\n",
    "    return dp[m][n]\n",
    "\n",
    "if __name__ == \"__main__\":\n",
    "    word1 = \"intention\"\n",
    "    word2 = \"execution\"\n",
    "\n",
    "    result = min_distance(word1, word2)\n",
    "    print(f\"Minimum edit distance between '{word1}' and '{word2}': {result}\")\n"
   ]
  },
  {
   "cell_type": "markdown",
   "id": "106a47f5-47c3-4a3b-b5d0-78a06585a800",
   "metadata": {},
   "source": [
    "### Q. 3 Print the max value of the array [ 13, 1, -3, 22, 5]."
   ]
  },
  {
   "cell_type": "code",
   "execution_count": 41,
   "id": "5709252a-541d-45fa-bbd8-0057bdde60dd",
   "metadata": {},
   "outputs": [
    {
     "name": "stdout",
     "output_type": "stream",
     "text": [
      "Maximum value in the array: 22\n"
     ]
    }
   ],
   "source": [
    "array = [13, 1, -3, 22, 5]\n",
    "\n",
    "max_value = max(array)\n",
    "\n",
    "print(\"Maximum value in the array:\", max_value)"
   ]
  },
  {
   "cell_type": "markdown",
   "id": "147cbef1-ece7-47d5-8aa5-d5ebb8904993",
   "metadata": {},
   "source": [
    "### Q.4 Find the sum of the values of the array [92, 23, 15, -20, 10]."
   ]
  },
  {
   "cell_type": "code",
   "execution_count": 43,
   "id": "af90a4a0-cd68-40e0-bcf2-5e201378f50d",
   "metadata": {},
   "outputs": [
    {
     "name": "stdout",
     "output_type": "stream",
     "text": [
      "Sum of the values in the array: 120\n"
     ]
    }
   ],
   "source": [
    "array = [92, 23, 15, -20, 10]\n",
    "\n",
    "array_sum = sum(array)\n",
    "\n",
    "print(\"Sum of the values in the array:\", array_sum)"
   ]
  },
  {
   "cell_type": "markdown",
   "id": "7b866aec-4a85-43d0-b70f-433d22089469",
   "metadata": {},
   "source": [
    "### Q.5 Given a number n. Print if it is an armstrong number or not.An armstrong number is a number if the sum of every digit in that number raised to the power of total digits in that number is equal to the number."
   ]
  },
  {
   "cell_type": "code",
   "execution_count": 46,
   "id": "9018f1d0-646a-4534-91c4-73452184d18e",
   "metadata": {},
   "outputs": [
    {
     "name": "stdin",
     "output_type": "stream",
     "text": [
      "Enter a number:  134\n"
     ]
    },
    {
     "name": "stdout",
     "output_type": "stream",
     "text": [
      "134 is not an Armstrong number.\n"
     ]
    }
   ],
   "source": [
    "def is_armstrong_number(n):\n",
    "    # Convert the number to a string to find the total digits\n",
    "    num_str = str(n)\n",
    "    num_digits = len(num_str)\n",
    "\n",
    "    # Calculate the sum of each digit raised to the power of total digits\n",
    "    armstrong_sum = sum(int(digit) ** num_digits for digit in num_str)\n",
    "\n",
    "    # Check if the sum is equal to the original number\n",
    "    return armstrong_sum == n\n",
    "\n",
    "# Example usage:\n",
    "if __name__ == \"__main__\":\n",
    "    number = int(input(\"Enter a number: \"))\n",
    "    \n",
    "    if is_armstrong_number(number):\n",
    "        print(f\"{number} is an Armstrong number.\")\n",
    "    else:\n",
    "        print(f\"{number} is not an Armstrong number.\")"
   ]
  },
  {
   "cell_type": "code",
   "execution_count": null,
   "id": "8faba15d-54bd-4cbf-b305-4c9eb75af76d",
   "metadata": {},
   "outputs": [],
   "source": []
  }
 ],
 "metadata": {
  "kernelspec": {
   "display_name": "Python 3 (ipykernel)",
   "language": "python",
   "name": "python3"
  },
  "language_info": {
   "codemirror_mode": {
    "name": "ipython",
    "version": 3
   },
   "file_extension": ".py",
   "mimetype": "text/x-python",
   "name": "python",
   "nbconvert_exporter": "python",
   "pygments_lexer": "ipython3",
   "version": "3.10.8"
  }
 },
 "nbformat": 4,
 "nbformat_minor": 5
}
